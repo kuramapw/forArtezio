{
  "nbformat": 4,
  "nbformat_minor": 0,
  "metadata": {
    "colab": {
      "name": "Untitled0.ipynb",
      "provenance": [],
      "authorship_tag": "ABX9TyMjcZROId9/VlbCaJZIaQb4",
      "include_colab_link": true
    },
    "kernelspec": {
      "name": "python3",
      "display_name": "Python 3"
    }
  },
  "cells": [
    {
      "cell_type": "markdown",
      "metadata": {
        "id": "view-in-github",
        "colab_type": "text"
      },
      "source": [
        "<a href=\"https://colab.research.google.com/github/kuramapw/forArtezio/blob/master/Lesson1/1.ipynb\" target=\"_parent\"><img src=\"https://colab.research.google.com/assets/colab-badge.svg\" alt=\"Open In Colab\"/></a>"
      ]
    },
    {
      "cell_type": "code",
      "metadata": {
        "id": "pgGJbO4yWyz2",
        "colab_type": "code",
        "colab": {
          "base_uri": "https://localhost:8080/",
          "height": 69
        },
        "outputId": "3b692ef8-7d07-4a8c-a927-c91f7c05e758"
      },
      "source": [
        "print('Write name :')\n",
        "name = input()\n",
        "s=name.split(' ')\n",
        "for i in s :\n",
        "  if not i[0].isdigit():\n",
        "    i=i.title()\n",
        "  print(i, end = ' ')"
      ],
      "execution_count": 10,
      "outputs": [
        {
          "output_type": "stream",
          "text": [
            "Write name :\n",
            "123 Fff fFF 1F 1f\n",
            "123 Fff Fff 1F 1f "
          ],
          "name": "stdout"
        }
      ]
    }
  ]
}